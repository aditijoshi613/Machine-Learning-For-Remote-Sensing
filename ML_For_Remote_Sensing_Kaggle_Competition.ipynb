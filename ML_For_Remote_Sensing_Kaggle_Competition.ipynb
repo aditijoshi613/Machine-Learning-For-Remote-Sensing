{
  "nbformat": 4,
  "nbformat_minor": 0,
  "metadata": {
    "colab": {
      "name": "ML For Remote Sensing Kaggle Competition",
      "provenance": [],
      "collapsed_sections": [],
      "mount_file_id": "1qXqgezlKi8yi_a9Me_zzES6Qv4ANyrgz",
      "authorship_tag": "ABX9TyMHMfo+t+JSFakMQb2/Zj3w",
      "include_colab_link": true
    },
    "kernelspec": {
      "name": "python3",
      "display_name": "Python 3"
    },
    "accelerator": "GPU"
  },
  "cells": [
    {
      "cell_type": "markdown",
      "metadata": {
        "id": "view-in-github",
        "colab_type": "text"
      },
      "source": [
        "<a href=\"https://colab.research.google.com/github/aditijoshi613/Machine-Learning-For-Remote-Sensing/blob/main/ML_For_Remote_Sensing_Kaggle_Competition.ipynb\" target=\"_parent\"><img src=\"https://colab.research.google.com/assets/colab-badge.svg\" alt=\"Open In Colab\"/></a>"
      ]
    },
    {
      "cell_type": "code",
      "metadata": {
        "id": "6tAbPOPr3Bgm",
        "colab": {
          "base_uri": "https://localhost:8080/",
          "height": 35
        },
        "outputId": "996d27bf-f04a-4c8b-a76b-9a55c295c84f"
      },
      "source": [
        "# import tensorflow module. Check API version.\n",
        "import tensorflow as tf\n",
        "import numpy as np\n",
        "\n",
        "print (tf.__version__)\n",
        "\n",
        "# required for TF to run within docker using GPU (ignore otherwise)\n",
        "gpu = tf.config.experimental.list_physical_devices('GPU')\n",
        "tf.config.experimental.set_memory_growth(gpu[0], True)"
      ],
      "execution_count": null,
      "outputs": [
        {
          "output_type": "stream",
          "text": [
            "2.3.0\n"
          ],
          "name": "stdout"
        }
      ]
    },
    {
      "cell_type": "code",
      "metadata": {
        "id": "_9QSa9rK5TlS",
        "colab": {
          "base_uri": "https://localhost:8080/",
          "height": 35
        },
        "outputId": "bcfd0426-aeeb-405d-a84e-09d2574caf74"
      },
      "source": [
        "from google.colab import drive   #wget! is also an option to directly access from github\n",
        "drive.mount('/content/drive')"
      ],
      "execution_count": null,
      "outputs": [
        {
          "output_type": "stream",
          "text": [
            "Drive already mounted at /content/drive; to attempt to forcibly remount, call drive.mount(\"/content/drive\", force_remount=True).\n"
          ],
          "name": "stdout"
        }
      ]
    },
    {
      "cell_type": "code",
      "metadata": {
        "id": "Lor7mpG9RZlN",
        "colab": {
          "base_uri": "https://localhost:8080/",
          "height": 35
        },
        "outputId": "7f64ca99-a610-4d12-db1e-426b5073116a"
      },
      "source": [
        "%pwd"
      ],
      "execution_count": null,
      "outputs": [
        {
          "output_type": "execute_result",
          "data": {
            "application/vnd.google.colaboratory.intrinsic+json": {
              "type": "string"
            },
            "text/plain": [
              "'/content/drive/My Drive/SHALA : ML Module'"
            ]
          },
          "metadata": {
            "tags": []
          },
          "execution_count": 103
        }
      ]
    },
    {
      "cell_type": "code",
      "metadata": {
        "id": "RKIuKJ3K5og0",
        "colab": {
          "base_uri": "https://localhost:8080/",
          "height": 52
        },
        "outputId": "fa8e0fdc-a2a0-414b-f0c6-c66e9851aa3b"
      },
      "source": [
        "%cd drive"
      ],
      "execution_count": null,
      "outputs": [
        {
          "output_type": "stream",
          "text": [
            "[Errno 2] No such file or directory: 'drive'\n",
            "/content/drive/My Drive/SHALA : ML Module\n"
          ],
          "name": "stdout"
        }
      ]
    },
    {
      "cell_type": "code",
      "metadata": {
        "id": "WuXJ0Rat68Sr",
        "colab": {
          "base_uri": "https://localhost:8080/",
          "height": 52
        },
        "outputId": "264f9414-18c4-4727-a27e-9db9df86426a"
      },
      "source": [
        "%cd 'My Drive'"
      ],
      "execution_count": null,
      "outputs": [
        {
          "output_type": "stream",
          "text": [
            "[Errno 2] No such file or directory: 'My Drive'\n",
            "/content/drive/My Drive/SHALA : ML Module\n"
          ],
          "name": "stdout"
        }
      ]
    },
    {
      "cell_type": "code",
      "metadata": {
        "id": "GoeXwXsmSDS-",
        "colab": {
          "base_uri": "https://localhost:8080/",
          "height": 52
        },
        "outputId": "0b24ba3d-91c4-4647-a220-aabb47a624eb"
      },
      "source": [
        "%cd 'SHALA : ML Module'\n",
        "# %ls"
      ],
      "execution_count": null,
      "outputs": [
        {
          "output_type": "stream",
          "text": [
            "[Errno 2] No such file or directory: 'SHALA : ML Module'\n",
            "/content/drive/My Drive/SHALA : ML Module\n"
          ],
          "name": "stdout"
        }
      ]
    },
    {
      "cell_type": "code",
      "metadata": {
        "id": "WWvFEEoH3VIK",
        "colab": {
          "base_uri": "https://localhost:8080/",
          "height": 87
        },
        "outputId": "dac4fa69-790b-4681-9e3e-4c85e26f3907"
      },
      "source": [
        "from tensorflow.keras.preprocessing.image import ImageDataGenerator\n",
        "\n",
        "# define training data augmentation pipeline\n",
        "batch_size = 16\n",
        "train_datagen = ImageDataGenerator(rescale = 1.0/255.,\n",
        "      #data_format =  \"channels_last\",\n",
        "      rotation_range=40,\n",
        "      width_shift_range=0.2,\n",
        "      height_shift_range=0.2,\n",
        "      shear_range=0.2,\n",
        "      zoom_range=0.2,\n",
        "      horizontal_flip=True,#vertical_flip = True,\n",
        "      fill_mode='nearest',validation_split=0.2)\n",
        "\n",
        "# load training data\n",
        "TRAINING_DIR = 'train/train'\n",
        "train_generator = train_datagen.flow_from_directory(TRAINING_DIR,\n",
        "                                                    target_size=(256, 256),color_mode=\"rgb\",\n",
        "                                                    batch_size= batch_size,\n",
        "                                                    class_mode='categorical',\n",
        "                                                    shuffle = True,\n",
        "                                                    subset = 'training')\n",
        "\n",
        "validation_generator = train_datagen.flow_from_directory(TRAINING_DIR,\n",
        "                                                    target_size=(256, 256),color_mode=\"rgb\",\n",
        "                                                    batch_size= batch_size,\n",
        "                                                    class_mode='categorical',shuffle = True,subset='validation') # set as validation data\n",
        "test_datagen = ImageDataGenerator( rescale = 1.0/255.,\n",
        "      #data_format =  \"channels_last\",\n",
        "      rotation_range=40,\n",
        "      width_shift_range=0.2,\n",
        "      height_shift_range=0.2,\n",
        "      shear_range=0.2,\n",
        "      zoom_range=0.2,\n",
        "      horizontal_flip=True,#vertical_flip = True,\n",
        "      fill_mode='nearest',validation_split=0.2)\n",
        "TEST_DIR = 'test_set'\n",
        "test_generator = test_datagen.flow_from_directory(TEST_DIR,\n",
        "                                                    batch_size=batch_size,\n",
        "                                                    class_mode=None,color_mode=\"rgb\",\n",
        "                                                    target_size=(256, 256), shuffle = False)\n",
        "print(train_generator.class_indices)"
      ],
      "execution_count": null,
      "outputs": [
        {
          "output_type": "stream",
          "text": [
            "Found 448 images belonging to 7 classes.\n",
            "Found 112 images belonging to 7 classes.\n",
            "Found 95 images belonging to 1 classes.\n",
            "{'0-basketball court': 0, '1-beach': 1, '2-forest': 2, '3-railway': 3, '4-tennis_court': 4, '5-swimming_pool': 5, '6-others': 6}\n"
          ],
          "name": "stdout"
        }
      ]
    },
    {
      "cell_type": "code",
      "metadata": {
        "id": "Vg4wyTJfwDP5",
        "colab": {
          "base_uri": "https://localhost:8080/",
          "height": 641
        },
        "outputId": "5910d6c3-4218-4cb7-c210-0cd8cb4a342a"
      },
      "source": [
        "\n",
        "\n",
        "from keras.layers import Input\n",
        "from keras.layers import Conv2D, MaxPooling2D, Dense, BatchNormalization, Dropout, Flatten, concatenate\n",
        "input = Input(shape=(256,256,3))\n",
        "l11 = Conv2D(16, (1,1),padding='same', activation='relu', kernel_initializer='HeNormal', bias_initializer='zeros')(input)\n",
        "l111 =  Conv2D(16, (5,5), padding='same',activation='relu', kernel_initializer='HeNormal', bias_initializer='zeros')(l11)\n",
        "l11_ = BatchNormalization()(l111)\n",
        "\n",
        "l12 = Conv2D(16, (1,1),padding='same', activation='relu', kernel_initializer='HeNormal', bias_initializer='zeros')(input)\n",
        "l122 = Conv2D(16, (3,3),padding='same', activation='relu',kernel_initializer='HeNormal', bias_initializer='zeros')(l12) \n",
        "l12_ = BatchNormalization()(l122)\n",
        "\n",
        "l13 = MaxPooling2D(pool_size=(3, 3),padding='same',strides = (1,1))(input)\n",
        "l13__ = Conv2D(16, (1,1), activation='relu',padding='same', kernel_initializer='HeNormal', bias_initializer='zeros')(l13)\n",
        "l13_ = BatchNormalization()(l13__)\n",
        "l1 = concatenate([l11_,l12_,l13_], axis=3)\n",
        "# l222 = Conv2D(32, (3,3), activation='relu', input_shape=(256, 256, 3),kernel_initializer='HeNormal', bias_initializer='zeros')(l1)\n",
        "# l22 = BatchNormalization()(l222)\n",
        "# l2 = MaxPooling2D(pool_size=(2, 2))(l22)\n",
        "# l333 = Conv2D(64,(1,1),activation='relu', input_shape=(256, 256, 3),kernel_initializer='HeNormal', bias_initializer='zeros')(l2)\n",
        "# l33 = BatchNormalization()(l333)\n",
        "# l3 = MaxPooling2D(pool_size=(2, 2))(l33)\n",
        "l4 = Flatten()(l1)\n",
        "#l5 = Dense(16, activation='relu',kernel_initializer='HeNormal', bias_initializer='zeros')(l4)\n",
        "#l6 = Dropout(0.5, seed = 0)(l5)\n",
        "output = Dense(7, activation='softmax')(l4)\n",
        "from keras.models import Model#\n",
        "model =  Model(inputs = input, outputs = output )\n",
        "model.compile(optimizer=tf.keras.optimizers.Adam(lr=0.000001),\n",
        "        loss=\"categorical_crossentropy\",\n",
        "         metrics=[\"accuracy\"])\n",
        "\n",
        "# print model summary\n",
        "model.summary()\n",
        "\n",
        "\n",
        "\n"
      ],
      "execution_count": null,
      "outputs": [
        {
          "output_type": "stream",
          "text": [
            "Model: \"functional_28\"\n",
            "__________________________________________________________________________________________________\n",
            "Layer (type)                    Output Shape         Param #     Connected to                     \n",
            "==================================================================================================\n",
            "input_31 (InputLayer)           [(None, 256, 256, 3) 0                                            \n",
            "__________________________________________________________________________________________________\n",
            "conv2d_238 (Conv2D)             (None, 256, 256, 16) 64          input_31[0][0]                   \n",
            "__________________________________________________________________________________________________\n",
            "conv2d_240 (Conv2D)             (None, 256, 256, 16) 64          input_31[0][0]                   \n",
            "__________________________________________________________________________________________________\n",
            "max_pooling2d_129 (MaxPooling2D (None, 256, 256, 3)  0           input_31[0][0]                   \n",
            "__________________________________________________________________________________________________\n",
            "conv2d_239 (Conv2D)             (None, 256, 256, 16) 6416        conv2d_238[0][0]                 \n",
            "__________________________________________________________________________________________________\n",
            "conv2d_241 (Conv2D)             (None, 256, 256, 16) 2320        conv2d_240[0][0]                 \n",
            "__________________________________________________________________________________________________\n",
            "conv2d_242 (Conv2D)             (None, 256, 256, 16) 64          max_pooling2d_129[0][0]          \n",
            "__________________________________________________________________________________________________\n",
            "batch_normalization_189 (BatchN (None, 256, 256, 16) 64          conv2d_239[0][0]                 \n",
            "__________________________________________________________________________________________________\n",
            "batch_normalization_190 (BatchN (None, 256, 256, 16) 64          conv2d_241[0][0]                 \n",
            "__________________________________________________________________________________________________\n",
            "batch_normalization_191 (BatchN (None, 256, 256, 16) 64          conv2d_242[0][0]                 \n",
            "__________________________________________________________________________________________________\n",
            "concatenate_25 (Concatenate)    (None, 256, 256, 48) 0           batch_normalization_189[0][0]    \n",
            "                                                                 batch_normalization_190[0][0]    \n",
            "                                                                 batch_normalization_191[0][0]    \n",
            "__________________________________________________________________________________________________\n",
            "flatten_38 (Flatten)            (None, 3145728)      0           concatenate_25[0][0]             \n",
            "__________________________________________________________________________________________________\n",
            "dense_69 (Dense)                (None, 7)            22020103    flatten_38[0][0]                 \n",
            "==================================================================================================\n",
            "Total params: 22,029,223\n",
            "Trainable params: 22,029,127\n",
            "Non-trainable params: 96\n",
            "__________________________________________________________________________________________________\n"
          ],
          "name": "stdout"
        }
      ]
    },
    {
      "cell_type": "code",
      "metadata": {
        "id": "uVZydJ63pRZp",
        "colab": {
          "base_uri": "https://localhost:8080/",
          "height": 1000
        },
        "outputId": "dfbb0954-ed72-4288-b4d0-f3d5db52ab8b"
      },
      "source": [
        "#model fitting \n",
        "# define callback function for training termination criteria\n",
        "accuracy_cutoff = 0.99\n",
        "class myCallback(tf.keras.callbacks.Callback):\n",
        "  def on_epoch_end(self, epoch, logs=None):\n",
        "    if(logs.get('accuracy') > 0.90):\n",
        "      print(\"\\nReached 90% accuracy so cancelling training!\")\n",
        "      self.model.stop_training = True\n",
        "\n",
        "# initialize training config\n",
        "epochs = 100 #less no. for hyperparameter tuning\n",
        "\n",
        "# run training\n",
        "print(\"[INFO] training...\")\n",
        "history = model.fit(train_generator, validation_data=validation_generator,\n",
        "                    epochs=epochs, verbose=1,callbacks=[myCallback()])\n",
        "# model.fit(train_generator,validation_data=validation_generator,batch_size = batch_size,epochs = 6,verbose=1)"
      ],
      "execution_count": null,
      "outputs": [
        {
          "output_type": "stream",
          "text": [
            "[INFO] training...\n",
            "Epoch 1/100\n",
            "28/28 [==============================] - 17s 614ms/step - loss: 1.3668 - accuracy: 0.5290 - val_loss: 2.0924 - val_accuracy: 0.1696\n",
            "Epoch 2/100\n",
            "28/28 [==============================] - 17s 598ms/step - loss: 1.0474 - accuracy: 0.6049 - val_loss: 1.8023 - val_accuracy: 0.2321\n",
            "Epoch 3/100\n",
            "28/28 [==============================] - 17s 597ms/step - loss: 0.9467 - accuracy: 0.6540 - val_loss: 1.6313 - val_accuracy: 0.3571\n",
            "Epoch 4/100\n",
            "28/28 [==============================] - 17s 598ms/step - loss: 0.8020 - accuracy: 0.6920 - val_loss: 1.5700 - val_accuracy: 0.4107\n",
            "Epoch 5/100\n",
            "28/28 [==============================] - 17s 602ms/step - loss: 0.7179 - accuracy: 0.7210 - val_loss: 1.4278 - val_accuracy: 0.5268\n",
            "Epoch 6/100\n",
            "28/28 [==============================] - 17s 598ms/step - loss: 0.7423 - accuracy: 0.7188 - val_loss: 1.2551 - val_accuracy: 0.5982\n",
            "Epoch 7/100\n",
            "28/28 [==============================] - 17s 597ms/step - loss: 0.7622 - accuracy: 0.7254 - val_loss: 1.2085 - val_accuracy: 0.6250\n",
            "Epoch 8/100\n",
            "28/28 [==============================] - 17s 598ms/step - loss: 0.6961 - accuracy: 0.7232 - val_loss: 1.1833 - val_accuracy: 0.6250\n",
            "Epoch 9/100\n",
            "28/28 [==============================] - 17s 597ms/step - loss: 0.6871 - accuracy: 0.7388 - val_loss: 1.1169 - val_accuracy: 0.6161\n",
            "Epoch 10/100\n",
            "28/28 [==============================] - 17s 597ms/step - loss: 0.6774 - accuracy: 0.7567 - val_loss: 1.0534 - val_accuracy: 0.6607\n",
            "Epoch 11/100\n",
            "28/28 [==============================] - 17s 596ms/step - loss: 0.6982 - accuracy: 0.7321 - val_loss: 1.0272 - val_accuracy: 0.7054\n",
            "Epoch 12/100\n",
            "28/28 [==============================] - 17s 597ms/step - loss: 0.6705 - accuracy: 0.7478 - val_loss: 1.0960 - val_accuracy: 0.6518\n",
            "Epoch 13/100\n",
            "28/28 [==============================] - 17s 597ms/step - loss: 0.6739 - accuracy: 0.7522 - val_loss: 1.0216 - val_accuracy: 0.6339\n",
            "Epoch 14/100\n",
            "28/28 [==============================] - 17s 597ms/step - loss: 0.6488 - accuracy: 0.7388 - val_loss: 0.9300 - val_accuracy: 0.6964\n",
            "Epoch 15/100\n",
            "28/28 [==============================] - 17s 596ms/step - loss: 0.5980 - accuracy: 0.7723 - val_loss: 0.8961 - val_accuracy: 0.7321\n",
            "Epoch 16/100\n",
            "28/28 [==============================] - 17s 598ms/step - loss: 0.6091 - accuracy: 0.7746 - val_loss: 0.9953 - val_accuracy: 0.6786\n",
            "Epoch 17/100\n",
            "28/28 [==============================] - 17s 597ms/step - loss: 0.5902 - accuracy: 0.7768 - val_loss: 0.7984 - val_accuracy: 0.7500\n",
            "Epoch 18/100\n",
            "28/28 [==============================] - 17s 598ms/step - loss: 0.5761 - accuracy: 0.7790 - val_loss: 0.8431 - val_accuracy: 0.6964\n",
            "Epoch 19/100\n",
            "28/28 [==============================] - 17s 598ms/step - loss: 0.5491 - accuracy: 0.7946 - val_loss: 0.8426 - val_accuracy: 0.7857\n",
            "Epoch 20/100\n",
            "28/28 [==============================] - 17s 597ms/step - loss: 0.5840 - accuracy: 0.7567 - val_loss: 0.8397 - val_accuracy: 0.7679\n",
            "Epoch 21/100\n",
            "28/28 [==============================] - 17s 597ms/step - loss: 0.5164 - accuracy: 0.8058 - val_loss: 0.8757 - val_accuracy: 0.7411\n",
            "Epoch 22/100\n",
            "28/28 [==============================] - 17s 599ms/step - loss: 0.5669 - accuracy: 0.7969 - val_loss: 0.8764 - val_accuracy: 0.7232\n",
            "Epoch 23/100\n",
            "28/28 [==============================] - 17s 599ms/step - loss: 0.6093 - accuracy: 0.7612 - val_loss: 0.8448 - val_accuracy: 0.7500\n",
            "Epoch 24/100\n",
            "28/28 [==============================] - 17s 599ms/step - loss: 0.5177 - accuracy: 0.8058 - val_loss: 0.9056 - val_accuracy: 0.7232\n",
            "Epoch 25/100\n",
            "28/28 [==============================] - 17s 598ms/step - loss: 0.5031 - accuracy: 0.8103 - val_loss: 0.8085 - val_accuracy: 0.7768\n",
            "Epoch 26/100\n",
            "28/28 [==============================] - 17s 597ms/step - loss: 0.5008 - accuracy: 0.8348 - val_loss: 0.7832 - val_accuracy: 0.8214\n",
            "Epoch 27/100\n",
            "28/28 [==============================] - 17s 599ms/step - loss: 0.5304 - accuracy: 0.7835 - val_loss: 0.7716 - val_accuracy: 0.7589\n",
            "Epoch 28/100\n",
            "28/28 [==============================] - 17s 598ms/step - loss: 0.5152 - accuracy: 0.7902 - val_loss: 0.8738 - val_accuracy: 0.7589\n",
            "Epoch 29/100\n",
            "28/28 [==============================] - 17s 598ms/step - loss: 0.4811 - accuracy: 0.8192 - val_loss: 0.8289 - val_accuracy: 0.7411\n",
            "Epoch 30/100\n",
            "28/28 [==============================] - 17s 597ms/step - loss: 0.5186 - accuracy: 0.7991 - val_loss: 0.8966 - val_accuracy: 0.7946\n",
            "Epoch 31/100\n",
            "28/28 [==============================] - 17s 597ms/step - loss: 0.5436 - accuracy: 0.8259 - val_loss: 0.8548 - val_accuracy: 0.7768\n",
            "Epoch 32/100\n",
            "28/28 [==============================] - 17s 597ms/step - loss: 0.4830 - accuracy: 0.8192 - val_loss: 0.7465 - val_accuracy: 0.7857\n",
            "Epoch 33/100\n",
            "28/28 [==============================] - 17s 597ms/step - loss: 0.5239 - accuracy: 0.8214 - val_loss: 0.8584 - val_accuracy: 0.7768\n",
            "Epoch 34/100\n",
            "28/28 [==============================] - 17s 596ms/step - loss: 0.4943 - accuracy: 0.7991 - val_loss: 0.7375 - val_accuracy: 0.8214\n",
            "Epoch 35/100\n",
            "28/28 [==============================] - 17s 596ms/step - loss: 0.4400 - accuracy: 0.8415 - val_loss: 0.8861 - val_accuracy: 0.7500\n",
            "Epoch 36/100\n",
            "28/28 [==============================] - 17s 596ms/step - loss: 0.5005 - accuracy: 0.8147 - val_loss: 0.7654 - val_accuracy: 0.8036\n",
            "Epoch 37/100\n",
            "28/28 [==============================] - 17s 595ms/step - loss: 0.5450 - accuracy: 0.8125 - val_loss: 0.8057 - val_accuracy: 0.7679\n",
            "Epoch 38/100\n",
            "28/28 [==============================] - 17s 598ms/step - loss: 0.4775 - accuracy: 0.8259 - val_loss: 0.8688 - val_accuracy: 0.7500\n",
            "Epoch 39/100\n",
            "28/28 [==============================] - 17s 599ms/step - loss: 0.4798 - accuracy: 0.8237 - val_loss: 0.8945 - val_accuracy: 0.7946\n",
            "Epoch 40/100\n",
            "28/28 [==============================] - 17s 609ms/step - loss: 0.5017 - accuracy: 0.8348 - val_loss: 0.7770 - val_accuracy: 0.8125\n",
            "Epoch 41/100\n",
            "28/28 [==============================] - 17s 607ms/step - loss: 0.5310 - accuracy: 0.7902 - val_loss: 0.7972 - val_accuracy: 0.8036\n",
            "Epoch 42/100\n",
            "28/28 [==============================] - 17s 612ms/step - loss: 0.4375 - accuracy: 0.8259 - val_loss: 0.7053 - val_accuracy: 0.7946\n",
            "Epoch 43/100\n",
            "28/28 [==============================] - 17s 604ms/step - loss: 0.4581 - accuracy: 0.8393 - val_loss: 0.7678 - val_accuracy: 0.7857\n",
            "Epoch 44/100\n",
            "28/28 [==============================] - 17s 606ms/step - loss: 0.4905 - accuracy: 0.8103 - val_loss: 0.8378 - val_accuracy: 0.7679\n",
            "Epoch 45/100\n",
            "28/28 [==============================] - 17s 607ms/step - loss: 0.3921 - accuracy: 0.8482 - val_loss: 0.7931 - val_accuracy: 0.8036\n",
            "Epoch 46/100\n",
            "28/28 [==============================] - 17s 608ms/step - loss: 0.4600 - accuracy: 0.8393 - val_loss: 0.7457 - val_accuracy: 0.8214\n",
            "Epoch 47/100\n",
            "28/28 [==============================] - 17s 608ms/step - loss: 0.4425 - accuracy: 0.8214 - val_loss: 0.7875 - val_accuracy: 0.7589\n",
            "Epoch 48/100\n",
            "28/28 [==============================] - 17s 607ms/step - loss: 0.4485 - accuracy: 0.8214 - val_loss: 0.7738 - val_accuracy: 0.7768\n",
            "Epoch 49/100\n",
            "28/28 [==============================] - 17s 608ms/step - loss: 0.4227 - accuracy: 0.8371 - val_loss: 0.8506 - val_accuracy: 0.7768\n",
            "Epoch 50/100\n",
            "28/28 [==============================] - 17s 607ms/step - loss: 0.4227 - accuracy: 0.8348 - val_loss: 0.7549 - val_accuracy: 0.7768\n",
            "Epoch 51/100\n",
            "28/28 [==============================] - 17s 607ms/step - loss: 0.4418 - accuracy: 0.8304 - val_loss: 0.8704 - val_accuracy: 0.7768\n",
            "Epoch 52/100\n",
            "28/28 [==============================] - 17s 607ms/step - loss: 0.4396 - accuracy: 0.8393 - val_loss: 0.7849 - val_accuracy: 0.7946\n",
            "Epoch 53/100\n",
            "28/28 [==============================] - 17s 608ms/step - loss: 0.4734 - accuracy: 0.8237 - val_loss: 0.8958 - val_accuracy: 0.7232\n",
            "Epoch 54/100\n",
            "28/28 [==============================] - 17s 608ms/step - loss: 0.4627 - accuracy: 0.8348 - val_loss: 0.7524 - val_accuracy: 0.7946\n",
            "Epoch 55/100\n",
            "28/28 [==============================] - 17s 607ms/step - loss: 0.4587 - accuracy: 0.8281 - val_loss: 0.7313 - val_accuracy: 0.7857\n",
            "Epoch 56/100\n",
            "28/28 [==============================] - 17s 608ms/step - loss: 0.4375 - accuracy: 0.8304 - val_loss: 0.8500 - val_accuracy: 0.7589\n",
            "Epoch 57/100\n",
            "28/28 [==============================] - 17s 606ms/step - loss: 0.3874 - accuracy: 0.8594 - val_loss: 0.7856 - val_accuracy: 0.7679\n",
            "Epoch 58/100\n",
            "28/28 [==============================] - 17s 611ms/step - loss: 0.4090 - accuracy: 0.8438 - val_loss: 0.6920 - val_accuracy: 0.8304\n",
            "Epoch 59/100\n",
            "28/28 [==============================] - 17s 607ms/step - loss: 0.4186 - accuracy: 0.8415 - val_loss: 0.8362 - val_accuracy: 0.8214\n",
            "Epoch 60/100\n",
            "28/28 [==============================] - 17s 606ms/step - loss: 0.4668 - accuracy: 0.8036 - val_loss: 0.7789 - val_accuracy: 0.7857\n",
            "Epoch 61/100\n",
            "28/28 [==============================] - 17s 605ms/step - loss: 0.4063 - accuracy: 0.8661 - val_loss: 0.8130 - val_accuracy: 0.7500\n",
            "Epoch 62/100\n",
            "28/28 [==============================] - 17s 607ms/step - loss: 0.3641 - accuracy: 0.8616 - val_loss: 0.7364 - val_accuracy: 0.7946\n",
            "Epoch 63/100\n",
            "28/28 [==============================] - 17s 606ms/step - loss: 0.4174 - accuracy: 0.8281 - val_loss: 0.7502 - val_accuracy: 0.8125\n",
            "Epoch 64/100\n",
            "28/28 [==============================] - 17s 605ms/step - loss: 0.4622 - accuracy: 0.8326 - val_loss: 0.7331 - val_accuracy: 0.8036\n",
            "Epoch 65/100\n",
            "28/28 [==============================] - 17s 607ms/step - loss: 0.4028 - accuracy: 0.8594 - val_loss: 0.7710 - val_accuracy: 0.7679\n",
            "Epoch 66/100\n",
            "28/28 [==============================] - 17s 605ms/step - loss: 0.4029 - accuracy: 0.8304 - val_loss: 0.8487 - val_accuracy: 0.7857\n",
            "Epoch 67/100\n",
            "28/28 [==============================] - 17s 608ms/step - loss: 0.4227 - accuracy: 0.8482 - val_loss: 0.8420 - val_accuracy: 0.8036\n",
            "Epoch 68/100\n",
            "28/28 [==============================] - 17s 609ms/step - loss: 0.4068 - accuracy: 0.8460 - val_loss: 0.7956 - val_accuracy: 0.8125\n",
            "Epoch 69/100\n",
            "28/28 [==============================] - 17s 606ms/step - loss: 0.3863 - accuracy: 0.8772 - val_loss: 0.8364 - val_accuracy: 0.7768\n",
            "Epoch 70/100\n",
            "28/28 [==============================] - 17s 606ms/step - loss: 0.3932 - accuracy: 0.8594 - val_loss: 0.8585 - val_accuracy: 0.7500\n",
            "Epoch 71/100\n",
            "28/28 [==============================] - 17s 605ms/step - loss: 0.4373 - accuracy: 0.8237 - val_loss: 0.7398 - val_accuracy: 0.8036\n",
            "Epoch 72/100\n",
            "28/28 [==============================] - 17s 605ms/step - loss: 0.3961 - accuracy: 0.8594 - val_loss: 0.6887 - val_accuracy: 0.7946\n",
            "Epoch 73/100\n",
            "28/28 [==============================] - 17s 606ms/step - loss: 0.3837 - accuracy: 0.8348 - val_loss: 0.7539 - val_accuracy: 0.8036\n",
            "Epoch 74/100\n",
            "28/28 [==============================] - 17s 607ms/step - loss: 0.3780 - accuracy: 0.8638 - val_loss: 0.7361 - val_accuracy: 0.7768\n",
            "Epoch 75/100\n",
            "28/28 [==============================] - 17s 609ms/step - loss: 0.4493 - accuracy: 0.8527 - val_loss: 0.7516 - val_accuracy: 0.7411\n",
            "Epoch 76/100\n",
            "28/28 [==============================] - 17s 609ms/step - loss: 0.3854 - accuracy: 0.8683 - val_loss: 0.7828 - val_accuracy: 0.8214\n",
            "Epoch 77/100\n",
            "28/28 [==============================] - 17s 606ms/step - loss: 0.3859 - accuracy: 0.8415 - val_loss: 0.7296 - val_accuracy: 0.7768\n",
            "Epoch 78/100\n",
            "28/28 [==============================] - 17s 606ms/step - loss: 0.3930 - accuracy: 0.8571 - val_loss: 0.7389 - val_accuracy: 0.7857\n",
            "Epoch 79/100\n",
            "28/28 [==============================] - 17s 606ms/step - loss: 0.3649 - accuracy: 0.8549 - val_loss: 0.8020 - val_accuracy: 0.7946\n",
            "Epoch 80/100\n",
            "28/28 [==============================] - 17s 608ms/step - loss: 0.3929 - accuracy: 0.8304 - val_loss: 0.8714 - val_accuracy: 0.7321\n",
            "Epoch 81/100\n",
            "28/28 [==============================] - 17s 607ms/step - loss: 0.4100 - accuracy: 0.8438 - val_loss: 0.7449 - val_accuracy: 0.8036\n",
            "Epoch 82/100\n",
            "28/28 [==============================] - 17s 606ms/step - loss: 0.3358 - accuracy: 0.8638 - val_loss: 0.6480 - val_accuracy: 0.8214\n",
            "Epoch 83/100\n",
            "28/28 [==============================] - 17s 605ms/step - loss: 0.3905 - accuracy: 0.8527 - val_loss: 0.8183 - val_accuracy: 0.7857\n",
            "Epoch 84/100\n",
            "28/28 [==============================] - 17s 605ms/step - loss: 0.3532 - accuracy: 0.8750 - val_loss: 0.7185 - val_accuracy: 0.7946\n",
            "Epoch 85/100\n",
            "28/28 [==============================] - 17s 606ms/step - loss: 0.3887 - accuracy: 0.8661 - val_loss: 0.6894 - val_accuracy: 0.8214\n",
            "Epoch 86/100\n",
            "28/28 [==============================] - 17s 608ms/step - loss: 0.3692 - accuracy: 0.8571 - val_loss: 0.7796 - val_accuracy: 0.7946\n",
            "Epoch 87/100\n",
            "28/28 [==============================] - 17s 606ms/step - loss: 0.3770 - accuracy: 0.8527 - val_loss: 0.7414 - val_accuracy: 0.7589\n",
            "Epoch 88/100\n",
            "28/28 [==============================] - 17s 607ms/step - loss: 0.4182 - accuracy: 0.8393 - val_loss: 0.8907 - val_accuracy: 0.7946\n",
            "Epoch 89/100\n",
            "28/28 [==============================] - 17s 607ms/step - loss: 0.3433 - accuracy: 0.8571 - val_loss: 0.7816 - val_accuracy: 0.7768\n",
            "Epoch 90/100\n",
            "28/28 [==============================] - 17s 609ms/step - loss: 0.3923 - accuracy: 0.8504 - val_loss: 0.6449 - val_accuracy: 0.8214\n",
            "Epoch 91/100\n",
            "28/28 [==============================] - 17s 607ms/step - loss: 0.3848 - accuracy: 0.8661 - val_loss: 0.6871 - val_accuracy: 0.8125\n",
            "Epoch 92/100\n",
            "28/28 [==============================] - 17s 607ms/step - loss: 0.3365 - accuracy: 0.8661 - val_loss: 0.8924 - val_accuracy: 0.7589\n",
            "Epoch 93/100\n",
            "28/28 [==============================] - 17s 606ms/step - loss: 0.3950 - accuracy: 0.8705 - val_loss: 0.7700 - val_accuracy: 0.7768\n",
            "Epoch 94/100\n",
            "28/28 [==============================] - 17s 608ms/step - loss: 0.3194 - accuracy: 0.8616 - val_loss: 0.9006 - val_accuracy: 0.7857\n",
            "Epoch 95/100\n",
            "28/28 [==============================] - 17s 608ms/step - loss: 0.3696 - accuracy: 0.8683 - val_loss: 0.7110 - val_accuracy: 0.7946\n",
            "Epoch 96/100\n",
            "28/28 [==============================] - 17s 606ms/step - loss: 0.3600 - accuracy: 0.8750 - val_loss: 0.8567 - val_accuracy: 0.8036\n",
            "Epoch 97/100\n",
            "28/28 [==============================] - 17s 606ms/step - loss: 0.4139 - accuracy: 0.8616 - val_loss: 0.6089 - val_accuracy: 0.8304\n",
            "Epoch 98/100\n",
            "28/28 [==============================] - 17s 608ms/step - loss: 0.4017 - accuracy: 0.8661 - val_loss: 0.6732 - val_accuracy: 0.8304\n",
            "Epoch 99/100\n",
            "28/28 [==============================] - 17s 606ms/step - loss: 0.3517 - accuracy: 0.8616 - val_loss: 0.7376 - val_accuracy: 0.7679\n",
            "Epoch 100/100\n",
            "28/28 [==============================] - 17s 606ms/step - loss: 0.3581 - accuracy: 0.8683 - val_loss: 0.7767 - val_accuracy: 0.7946\n"
          ],
          "name": "stdout"
        }
      ]
    },
    {
      "cell_type": "code",
      "metadata": {
        "id": "u5htBtFhho7s",
        "colab": {
          "base_uri": "https://localhost:8080/",
          "height": 591
        },
        "outputId": "addf6f65-1eab-4f03-e9f5-4c0c6dc0fc4f"
      },
      "source": [
        "%matplotlib inline\n",
        "import matplotlib.pyplot as plt\n",
        "\n",
        "# retrieve a list of list results on training and test data sets for each training epoch\n",
        "acc      = history.history['accuracy']\n",
        "val_acc  = history.history['val_accuracy']\n",
        "loss     = history.history['loss']\n",
        "val_loss = history.history['val_loss']\n",
        "\n",
        "epochs   = range(len(acc)) # get number of epochs\n",
        "\n",
        "# plot training and validation accuracy per epoch\n",
        "plt.plot(epochs, acc, label='train accuracy')\n",
        "plt.plot(epochs, val_acc, label='val accuracy')\n",
        "plt.xlabel('epochs')\n",
        "plt.ylabel('accuracy')\n",
        "plt.legend(loc=\"lower right\")\n",
        "plt.title('Training and validation accuracy')\n",
        "plt.figure()\n",
        "\n",
        "# plot training and validation loss per epoch\n",
        "plt.plot(epochs, loss, label='train loss')\n",
        "plt.plot(epochs, val_loss, label='val loss')\n",
        "plt.xlabel('epochs')\n",
        "plt.ylabel('loss')\n",
        "plt.legend(loc=\"upper right\")\n",
        "plt.title('Training and validation loss')"
      ],
      "execution_count": null,
      "outputs": [
        {
          "output_type": "execute_result",
          "data": {
            "text/plain": [
              "Text(0.5, 1.0, 'Training and validation loss')"
            ]
          },
          "metadata": {
            "tags": []
          },
          "execution_count": 133
        },
        {
          "output_type": "display_data",
          "data": {
            "image/png": "[encoded data removed]",
            "text/plain": [
              "<Figure size 432x288 with 1 Axes>"
            ]
          },
          "metadata": {
            "tags": [],
            "needs_background": "light"
          }
        },
        {
          "output_type": "display_data",
          "data": {
            "image/png": "[encoded data removed]",
            "text/plain": [
              "<Figure size 432x288 with 1 Axes>"
            ]
          },
          "metadata": {
            "tags": [],
            "needs_background": "light"
          }
        }
      ]
    },
    {
      "cell_type": "code",
      "metadata": {
        "id": "J1S8Cj77MGgn",
        "colab": {
          "base_uri": "https://localhost:8080/",
          "height": 35
        },
        "outputId": "651cf2a4-ff20-45f3-a4d8-61e7d2fb2202"
      },
      "source": [
        "predictt = model.predict(test_generator,verbose=1)"
      ],
      "execution_count": null,
      "outputs": [
        {
          "output_type": "stream",
          "text": [
            "6/6 [==============================] - 2s 318ms/step\n"
          ],
          "name": "stdout"
        }
      ]
    },
    {
      "cell_type": "code",
      "metadata": {
        "id": "Fx1ccI4bvySO"
      },
      "source": [
        "predictions = np.argmax(predictt,axis=1) + 1"
      ],
      "execution_count": null,
      "outputs": []
    },
    {
      "cell_type": "code",
      "metadata": {
        "id": "spROxtuXMi-4"
      },
      "source": [
        "\n",
        "imageid = test_generator.filenames\n",
        "for i in range(len(imageid)):\n",
        "  imageid[i] = str(imageid[i])\n",
        "  imageid[i] = imageid[i].strip('test_set/')\n",
        "  imageid[i] = imageid[i].strip('.jpg')\n",
        "imageid = [int(x) for x in imageid]\n",
        "# imageid"
      ],
      "execution_count": null,
      "outputs": []
    },
    {
      "cell_type": "code",
      "metadata": {
        "id": "Ffl_Xab5MwPt"
      },
      "source": [
        "import pandas as pd\n",
        "\n",
        "result = pd.DataFrame({'ImageID':imageid,'Label':predictions})\n"
      ],
      "execution_count": null,
      "outputs": []
    },
    {
      "cell_type": "code",
      "metadata": {
        "id": "WAQMCDFlNFMr"
      },
      "source": [
        "result.to_csv('180020010.csv',index=False)"
      ],
      "execution_count": null,
      "outputs": []
    },
    {
      "cell_type": "code",
      "metadata": {
        "id": "tefKHhu81bcc"
      },
      "source": [
        ""
      ],
      "execution_count": null,
      "outputs": []
    }
  ]
}